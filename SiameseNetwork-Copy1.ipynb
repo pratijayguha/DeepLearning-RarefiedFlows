{
 "cells": [
  {
   "cell_type": "markdown",
   "metadata": {
    "colab_type": "text",
    "id": "nNOUybIn_8tJ"
   },
   "source": [
    "# Importing libraries and functions\n",
    "            \n",
    "Importing rmequired libraries"
   ]
  },
  {
   "cell_type": "code",
   "execution_count": 1,
   "metadata": {
    "colab": {},
    "colab_type": "code",
    "id": "D5DYsluQ_8tK"
   },
   "outputs": [],
   "source": [
    "import pandas as pd\n",
    "import numpy as np\n",
    "import tensorflow as tf\n",
    "import tensorflow.keras as keras\n",
    "from tensorflow.keras import Input, Model\n",
    "from tensorflow.keras.models import Sequential\n",
    "from tensorflow.keras.layers import Dense, Softmax, Multiply, Lambda, Dropout\n",
    "from tensorflow.keras.callbacks import ModelCheckpoint, EarlyStopping\n",
    "from sklearn.model_selection import train_test_split\n",
    "from sklearn.preprocessing import StandardScaler\n",
    "from sklearn.metrics import mean_squared_error\n",
    "from math import sqrt\n",
    "from matplotlib import pyplot as plt\n",
    "import os\n",
    "import sys\n",
    "\n"
   ]
  },
  {
   "cell_type": "code",
   "execution_count": 2,
   "metadata": {
    "colab": {},
    "colab_type": "code",
    "id": "KQ6a-BYA_8tO"
   },
   "outputs": [],
   "source": [
    "def make_dir(path): # Function to make adirectory to save files in\n",
    "    cwd = os.getcwd()\n",
    "    abs_path = cwd + path\n",
    "\n",
    "\n",
    "    if not os.path.exists(abs_path):\n",
    "        try: \n",
    "            os.makedirs(abs_path)\n",
    "            print(abs_path)\n",
    "        except OSError:return 0\n",
    "        else: return 1\n",
    "    else: return 2"
   ]
  },
  {
   "cell_type": "code",
   "execution_count": 3,
   "metadata": {
    "colab": {},
    "colab_type": "code",
    "id": "Dx7qid5z_8tR"
   },
   "outputs": [],
   "source": [
    "# Declaring Variables\n",
    "num_epochs = 2000000\n",
    "load_adam_maxval = 'SavedModels/IndVal/OptiStudies/model_Adam'\n",
    "load_sgdnm_indval = 'SavedModels/IndVal/OptiStudies/model_SGD_NM'\n",
    "\n",
    "\n",
    "\n",
    "\n",
    "\n",
    "# Filepaths for saving Model Checkpoints:\n",
    "save_post_dir = 'PostProc/GridSearchCV'"
   ]
  },
  {
   "cell_type": "code",
   "execution_count": 4,
   "metadata": {
    "colab": {},
    "colab_type": "code",
    "id": "DysXcD9z_8tU"
   },
   "outputs": [],
   "source": [
    "# Reading data from .csv file\n",
    "data_dat = pd.read_csv (r'data.csv')\n",
    "pred_dat = pd.read_csv (r'test.csv')"
   ]
  },
  {
   "cell_type": "code",
   "execution_count": 5,
   "metadata": {
    "colab": {},
    "colab_type": "code",
    "id": "_Pb-FEBp_8tX"
   },
   "outputs": [],
   "source": [
    "# Extracting data into numpy arrays from pandas DataFrames\n",
    "\n",
    "# Training data\n",
    "X = pd.DataFrame(data_dat, columns = ['LD'])\n",
    "X = X.to_numpy()\n",
    "\n",
    "X_n = pd.DataFrame(data_dat, columns = ['XL'])\n",
    "X_n = X_n.to_numpy()\n",
    "\n",
    "\n",
    "y = pd.DataFrame(data_dat, columns = ['Ma'])\n",
    "y = y.to_numpy()\n",
    "\n",
    "# Prediction data\n",
    "X_pred = pd.DataFrame(pred_dat, columns = ['LD'])\n",
    "X_pred = X_pred.to_numpy()\n",
    "X_pred_ns = X_pred\n",
    "\n",
    "X_n_pred = pd.DataFrame(pred_dat, columns = ['XL'])\n",
    "X_n_pred = X_n_pred.to_numpy()\n",
    "\n",
    "y_pred = pd.DataFrame(pred_dat, columns = ['Ma'])\n",
    "y_pred = y_pred.to_numpy()\n",
    "\n"
   ]
  },
  {
   "cell_type": "code",
   "execution_count": 6,
   "metadata": {
    "colab": {},
    "colab_type": "code",
    "id": "a6b9jZ8H_8ta"
   },
   "outputs": [],
   "source": [
    "# Returns normalised valeus of Mach Number and Maximum Mach Number per L/D ratio as two arrays\n",
    "\n",
    "def get_norm_y(y,c): \n",
    "    num = int(y.shape[0] / c)\n",
    "    max_val = np.zeros(c*num)\n",
    "    y_norm = np.zeros([num*c])\n",
    "    for i in range(num):\n",
    "        max_val[i*c:(i+1)*c] = max(y[i*c:(i+1)*c])\n",
    "        for j in range(c):\n",
    "            y_norm[i*c + j] = y[i*c+j]/max_val[i*c+j]\n",
    "    return y_norm, max_val\n",
    "    \n",
    "y_norm, max_y = get_norm_y(y, 201)\n",
    "y_pred_norm, y_pred_max = get_norm_y(y_pred, 201)\n",
    "\n",
    "# Returns Input set fro training the Max Mach Numbers\n",
    "\n",
    "def get_x(x,c):\n",
    "    x_n = np.zeros(x.shape[0])\n",
    "    \n",
    "    for i in range(x.shape[0]):\n",
    "        x_n[i] = x[i]\n",
    "    \n",
    "    return x_n\n",
    "\n",
    "X_max = get_x(X,201)\n",
    "X_pred_max = get_x(X_pred, 201)\n",
    "\n",
    "X= np.hstack((X_n,X))\n",
    "X_pred = np.hstack((X_n_pred,X_pred))"
   ]
  },
  {
   "cell_type": "code",
   "execution_count": 7,
   "metadata": {
    "colab": {
     "base_uri": "https://localhost:8080/",
     "height": 136
    },
    "colab_type": "code",
    "executionInfo": {
     "elapsed": 3301,
     "status": "ok",
     "timestamp": 1590214596198,
     "user": {
      "displayName": "Baasit Sharief",
      "photoUrl": "https://lh3.googleusercontent.com/a-/AOh14GibisZi-a5ZiK0EddYbvLAp0up7t1L9qg1H2JWEwA=s64",
      "userId": "00039743490628955710"
     },
     "user_tz": -330
    },
    "id": "w0xGBFY4_8td",
    "outputId": "5a20f266-1b1e-4fd0-f345-4c3c9d9194a2"
   },
   "outputs": [],
   "source": [
    "y_comb = np.zeros([y_norm.shape[0],2])\n",
    "for i in range(y_comb.shape[0]):\n",
    "    y_comb[i,0]=y_norm[i]\n",
    "    y_comb[i,1]=max_y[i]"
   ]
  },
  {
   "cell_type": "code",
   "execution_count": null,
   "metadata": {
    "colab": {},
    "colab_type": "code",
    "id": "syNXImeS_8tm",
    "scrolled": true
   },
   "outputs": [],
   "source": [
    "MaxVal_archi = [20, 20, 20, 1]\n",
    "IndVal_archi = [20, 20, 20, 20, 20, 1]\n",
    "\n",
    "def get_LD(x):\n",
    "    x_new = x[0,1:]\n",
    "    return x_new[:,np.newaxis]\n",
    "\n",
    "\n",
    "def build_model(MaxVal_archi, IndVal_archi):\n",
    "\n",
    "    Input_layer = Input(shape=[2,], name='Input')\n",
    "\n",
    "    MaxVal_input = Lambda(get_LD, name='MaxVal_input', output_shape=(None, 1))(Input_layer)\n",
    "    \n",
    "    MaxVal_layer = []\n",
    "    for i,node in enumerate(MaxVal_archi):\n",
    "        if i==0:\n",
    "            MaxVal_layer.append(Dense(node, name='MaxVal_layer%d' %(i+1), activation='relu')(MaxVal_input))\n",
    "        elif i==len(MaxVal_archi)-1:\n",
    "            MaxVal_layer.append(Dense(1, name='MaxVal_Final_layer', activation='linear')(MaxVal_layer[i-1])) \n",
    "        else:\n",
    "            MaxVal_layer.append(Dense(node, name='MaxVal_layer%d' %(i+1), activation='relu')(MaxVal_layer[i-1]))\n",
    "    IndVal_layer = []\n",
    "    for i, node in enumerate(IndVal_archi):\n",
    "        if i==0:\n",
    "            IndVal_layer.append(Dense(node, name='IndVal_layer%d' %(i+1), activation='relu')(Input_layer))\n",
    "        elif i==len(IndVal_archi)-1:\n",
    "            IndVal_layer.append(Dense(1, name='IndVal_Final_layer', activation='linear')(IndVal_layer[i-1])) \n",
    "        else:\n",
    "            IndVal_layer.append(Dense(node, name='IndVal_layer%d' %(i+1), activation='relu')(IndVal_layer[i-1]))\n",
    "            # IndVal_layer.append(Dropout(0.25)(IndVal_layer[i]))\n",
    "\n",
    "            \n",
    "    Multiplication_layer = Multiply(name='Multiplication_layer')([IndVal_layer[len(IndVal_archi)-1], MaxVal_layer[len(MaxVal_archi)-1]])\n",
    "    \n",
    "    PreFinal_layer1 = Dense(1, name='Final_layer', activation='linear')(Multiplication_layer)\n",
    "    PreFinal_layer2 = Dense(1, name='Final_layer', activation='relu')(PreFinal_layer1)\n",
    "    PreFinal_layer3 = Dense(1, name='Final_layer', activation='relu')(PreFinal_layer2)\n",
    "    Final_layer = Dense(1, name='Final_layer', activation='linear')(PreFinal_layer3)\n",
    "    \n",
    "    \n",
    "    \n",
    "    \n",
    "#     model = Model(inputs= [Input_layer], outputs= [IndVal_layer[len(IndVal_archi)-1], MaxVal_layer[len(MaxVal_archi)-1]])\n",
    "    model = Model(inputs= [Input_layer], outputs= [Final_layer])\n",
    "    return model\n",
    "\n",
    "model = build_model(MaxVal_archi,IndVal_archi)"
   ]
  },
  {
   "cell_type": "code",
   "execution_count": null,
   "metadata": {
    "colab": {
     "base_uri": "https://localhost:8080/",
     "height": 754
    },
    "colab_type": "code",
    "executionInfo": {
     "elapsed": 1357,
     "status": "ok",
     "timestamp": 1590214666494,
     "user": {
      "displayName": "Baasit Sharief",
      "photoUrl": "https://lh3.googleusercontent.com/a-/AOh14GibisZi-a5ZiK0EddYbvLAp0up7t1L9qg1H2JWEwA=s64",
      "userId": "00039743490628955710"
     },
     "user_tz": -330
    },
    "id": "aRf6ODP8_8tp",
    "outputId": "2c4e432e-ae68-41b8-d913-c55efbad0997"
   },
   "outputs": [],
   "source": [
    "keras.utils.plot_model(model, \"multi_input_and_output_model.png\", show_shapes=True)\n",
    "# print(model.summary())"
   ]
  },
  {
   "cell_type": "code",
   "execution_count": null,
   "metadata": {
    "colab": {},
    "colab_type": "code",
    "id": "PQRhN9ef_8tw"
   },
   "outputs": [],
   "source": [
    "model.compile(loss='mse', optimizer='Adam', metrics=['mape'])\n"
   ]
  },
  {
   "cell_type": "code",
   "execution_count": null,
   "metadata": {
    "colab": {},
    "colab_type": "code",
    "id": "ewjyjNAg_8t1"
   },
   "outputs": [],
   "source": [
    "early_stopping_callback = EarlyStopping(monitor='val_mape', \n",
    "                                        patience=250,\n",
    "                                        min_delta= 1e-3,\n",
    "                                        restore_best_weights=True,\n",
    "                                        mode='auto',\n",
    "                                        verbose=True)"
   ]
  },
  {
   "cell_type": "code",
   "execution_count": null,
   "metadata": {
    "colab": {},
    "colab_type": "code",
    "id": "HRLGeAFG_8t5"
   },
   "outputs": [],
   "source": [
    "##### Using sklearn to split the data into train and test sets with shuffling ####\n",
    "X_train, X_test, y_train, y_test = train_test_split(X, y, test_size=0.2, random_state=42, shuffle=True)\n",
    "\n",
    "\n",
    "# y_norm_train = y_train_comb[:,0]\n",
    "# y_max_train = y_train_comb[:,1]\n",
    "# y_norm_test = y_test_comb[:,0]\n",
    "# y_max_test = y_test_comb[:,1]"
   ]
  },
  {
   "cell_type": "code",
   "execution_count": null,
   "metadata": {
    "colab": {
     "base_uri": "https://localhost:8080/",
     "height": 1000
    },
    "colab_type": "code",
    "executionInfo": {
     "elapsed": 73572,
     "status": "ok",
     "timestamp": 1590214750883,
     "user": {
      "displayName": "Baasit Sharief",
      "photoUrl": "https://lh3.googleusercontent.com/a-/AOh14GibisZi-a5ZiK0EddYbvLAp0up7t1L9qg1H2JWEwA=s64",
      "userId": "00039743490628955710"
     },
     "user_tz": -330
    },
    "id": "zs63r4zd_8t8",
    "outputId": "82e25377-19c8-4301-af7b-1c237c75b484",
    "scrolled": true
   },
   "outputs": [],
   "source": [
    "history = model.fit(X_train,\n",
    "                    y_train,\n",
    "                    batch_size = 2,\n",
    "                    epochs=200000,\n",
    "                    verbose=True,\n",
    "                    validation_data=(X_test, y_test),\n",
    "                    callbacks=[early_stopping_callback])\n",
    "\n",
    "model.save('temp_models/SiameseModel')"
   ]
  },
  {
   "cell_type": "code",
   "execution_count": null,
   "metadata": {
    "colab": {
     "base_uri": "https://localhost:8080/",
     "height": 285
    },
    "colab_type": "code",
    "executionInfo": {
     "elapsed": 1215,
     "status": "ok",
     "timestamp": 1590214758385,
     "user": {
      "displayName": "Baasit Sharief",
      "photoUrl": "https://lh3.googleusercontent.com/a-/AOh14GibisZi-a5ZiK0EddYbvLAp0up7t1L9qg1H2JWEwA=s64",
      "userId": "00039743490628955710"
     },
     "user_tz": -330
    },
    "id": "s3gt8ExNA5mr",
    "outputId": "b5632256-9c43-4d4e-91ad-0e49d0e632d2"
   },
   "outputs": [],
   "source": [
    "plt.plot(history.history['val_mape'])"
   ]
  },
  {
   "cell_type": "code",
   "execution_count": null,
   "metadata": {
    "colab": {},
    "colab_type": "code",
    "id": "5dw3oPHW_8t_"
   },
   "outputs": [],
   "source": [
    "pred = model.predict(X_pred)"
   ]
  },
  {
   "cell_type": "code",
   "execution_count": null,
   "metadata": {},
   "outputs": [],
   "source": [
    "print(pred)"
   ]
  },
  {
   "cell_type": "code",
   "execution_count": null,
   "metadata": {
    "colab": {},
    "colab_type": "code",
    "id": "IMDePqGA_8uE"
   },
   "outputs": [],
   "source": [
    "for i in range(int(pred[1].shape[0]/201)):\n",
    "    print(X_pred_max[i*201])"
   ]
  },
  {
   "cell_type": "code",
   "execution_count": null,
   "metadata": {
    "colab": {},
    "colab_type": "code",
    "id": "FR_ssYJ5_8uG"
   },
   "outputs": [],
   "source": [
    "for i in range(int(pred[1].shape[0]/201)):\n",
    "    \n",
    "    print(abs(pred[1][i*201]-y_pred_max[i*201])/y_pred_max[i*201])"
   ]
  },
  {
   "cell_type": "code",
   "execution_count": null,
   "metadata": {
    "colab": {
     "base_uri": "https://localhost:8080/",
     "height": 1000
    },
    "colab_type": "code",
    "executionInfo": {
     "elapsed": 3476,
     "status": "ok",
     "timestamp": 1590214773499,
     "user": {
      "displayName": "Baasit Sharief",
      "photoUrl": "https://lh3.googleusercontent.com/a-/AOh14GibisZi-a5ZiK0EddYbvLAp0up7t1L9qg1H2JWEwA=s64",
      "userId": "00039743490628955710"
     },
     "user_tz": -330
    },
    "id": "o4Wxe2i8_8uK",
    "outputId": "6a45d1a0-39a8-496b-aafc-119e93221090"
   },
   "outputs": [],
   "source": [
    "nrows=int(X_pred.shape[0]/201)\n",
    "fig3 = plt.figure()\n",
    "fig, axes = plt.subplots(nrows)\n",
    "fig.set_size_inches(6,39)\n",
    "for j in range(nrows):\n",
    "    axes[j].plot(X_n_pred[:201],\n",
    "                  pred[j*201:(j+1)*201],\n",
    "                  'r',\n",
    "                  label='Prediction')\n",
    "    axes[j].plot(X_n_pred[j*201:(j+1)*201], y_pred[j*201:(j+1)*201], 'g', label='Actual')\n",
    "    axes[j].set(xlabel=\"Normalised x-coordinate\", ylabel=\"Mach Number\")\n",
    "    axes[j].set_title('L/D Ratio = %.1f' %(X_pred_max[201*j]), fontsize=11)\n",
    "    axes[j].legend(loc=\"upper right\")\n",
    "    axes[j].set_xlim((0,1))\n",
    "    axes[j].set_ylim((0,5))\n",
    "    axes[j].set_aspect(0.2)\n",
    "\n",
    "fig = plt.gcf()\n",
    "plt.tight_layout(pad=0.25, h_pad=1.25, w_pad=0.25, rect=None)\n",
    "# plt.savefig(save_post_dir + 'cumilative_ind_%s_predictions.png' %(opti_name), dpi=500)\n",
    "plt.show(fig3)\n",
    "plt.close(fig3)"
   ]
  },
  {
   "cell_type": "code",
   "execution_count": null,
   "metadata": {
    "colab": {
     "base_uri": "https://localhost:8080/",
     "height": 34
    },
    "colab_type": "code",
    "executionInfo": {
     "elapsed": 978,
     "status": "ok",
     "timestamp": 1590214780349,
     "user": {
      "displayName": "Baasit Sharief",
      "photoUrl": "https://lh3.googleusercontent.com/a-/AOh14GibisZi-a5ZiK0EddYbvLAp0up7t1L9qg1H2JWEwA=s64",
      "userId": "00039743490628955710"
     },
     "user_tz": -330
    },
    "id": "9jyZn8g8_8uP",
    "outputId": "ea1121f0-811d-4435-9db4-5038eca53317",
    "slideshow": {
     "slide_type": "-"
    }
   },
   "outputs": [],
   "source": [
    "print(X_pred.shape)"
   ]
  },
  {
   "cell_type": "code",
   "execution_count": null,
   "metadata": {
    "colab": {},
    "colab_type": "code",
    "id": "ziW2aW5yL-E4"
   },
   "outputs": [],
   "source": []
  }
 ],
 "metadata": {
  "celltoolbar": "Attachments",
  "colab": {
   "name": "SiameseNetwork.ipynb",
   "provenance": []
  },
  "kernelspec": {
   "display_name": "Python 3",
   "language": "python",
   "name": "python3"
  },
  "language_info": {
   "codemirror_mode": {
    "name": "ipython",
    "version": 3
   },
   "file_extension": ".py",
   "mimetype": "text/x-python",
   "name": "python",
   "nbconvert_exporter": "python",
   "pygments_lexer": "ipython3",
   "version": "3.7.7"
  }
 },
 "nbformat": 4,
 "nbformat_minor": 1
}
