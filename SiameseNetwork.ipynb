{
 "cells": [
  {
   "cell_type": "markdown",
   "metadata": {},
   "source": [
    "# Importing libraries and functions\n",
    "\n",
    "Importing required libraries"
   ]
  },
  {
   "cell_type": "code",
   "execution_count": 13,
   "metadata": {},
   "outputs": [],
   "source": [
    "import pandas as pd\n",
    "import numpy as np\n",
    "import tensorflow as tf\n",
    "import tensorflow.keras as keras\n",
    "from tensorflow.keras import Input, Model\n",
    "from tensorflow.keras.models import Sequential\n",
    "from tensorflow.keras.layers import Dense, Softmax, Multiply, Lambda\n",
    "from tensorflow.keras.callbacks import ModelCheckpoint, EarlyStopping\n",
    "from sklearn.model_selection import train_test_split\n",
    "from sklearn.preprocessing import StandardScaler\n",
    "from sklearn.metrics import mean_squared_error\n",
    "from math import sqrt\n",
    "from matplotlib import pyplot as plt\n",
    "import os\n",
    "import sys\n",
    "\n"
   ]
  },
  {
   "cell_type": "code",
   "execution_count": 14,
   "metadata": {},
   "outputs": [],
   "source": [
    "def make_dir(path): # Function to make adirectory to save files in\n",
    "    cwd = os.getcwd()\n",
    "    abs_path = cwd + path\n",
    "\n",
    "\n",
    "    if not os.path.exists(abs_path):\n",
    "        try: \n",
    "            os.makedirs(abs_path)\n",
    "            print(abs_path)\n",
    "        except OSError:return 0\n",
    "        else: return 1\n",
    "    else: return 2"
   ]
  },
  {
   "cell_type": "code",
   "execution_count": 15,
   "metadata": {},
   "outputs": [],
   "source": [
    "# Declaring Variables\n",
    "num_epochs = 200000\n",
    "load_adam_maxval = 'SavedModels/IndVal/OptiStudies/model_Adam'\n",
    "load_sgdnm_indval = 'SavedModels/IndVal/OptiStudies/model_SGD_NM'\n",
    "\n",
    "\n",
    "\n",
    "\n",
    "\n",
    "# Filepaths for saving Model Checkpoints:\n",
    "save_post_dir = 'PostProc/GridSearchCV'"
   ]
  },
  {
   "cell_type": "code",
   "execution_count": 16,
   "metadata": {},
   "outputs": [],
   "source": [
    "# Reading data from .csv file\n",
    "data_dat = pd.read_csv (r'data.csv')\n",
    "pred_dat = pd.read_csv (r'test.csv')"
   ]
  },
  {
   "cell_type": "code",
   "execution_count": 17,
   "metadata": {},
   "outputs": [],
   "source": [
    "# Extracting data into numpy arrays from pandas DataFrames\n",
    "\n",
    "# Training data\n",
    "X = pd.DataFrame(data_dat, columns = ['LD'])\n",
    "X = X.to_numpy()\n",
    "\n",
    "X_n = pd.DataFrame(data_dat, columns = ['XL'])\n",
    "X_n = X_n.to_numpy()\n",
    "\n",
    "\n",
    "y = pd.DataFrame(data_dat, columns = ['Ma'])\n",
    "y = y.to_numpy()\n",
    "\n",
    "# Prediction data\n",
    "X_pred = pd.DataFrame(pred_dat, columns = ['LD'])\n",
    "X_pred = X_pred.to_numpy()\n",
    "X_pred_ns = X_pred\n",
    "\n",
    "X_n_pred = pd.DataFrame(pred_dat, columns = ['XL'])\n",
    "X_n_pred = X_n_pred.to_numpy()\n",
    "\n",
    "y_pred = pd.DataFrame(pred_dat, columns = ['Ma'])\n",
    "y_pred = y_pred.to_numpy()\n",
    "\n"
   ]
  },
  {
   "cell_type": "code",
   "execution_count": 18,
   "metadata": {},
   "outputs": [],
   "source": [
    "# Returns normalised valeus of Mach Number and Maximum Mach Number per L/D ratio as two arrays\n",
    "\n",
    "def get_norm_y(y,c): \n",
    "    num = int(y.shape[0] / c)\n",
    "    max_val = np.zeros(c*num)\n",
    "    y_norm = np.zeros([num*c])\n",
    "    for i in range(num):\n",
    "        max_val[i*c:(i+1)*c] = max(y[i*c:(i+1)*c])\n",
    "        for j in range(c):\n",
    "            y_norm[i*c + j] = y[i*c+j]/max_val[i]\n",
    "    return y_norm, max_val\n",
    "    \n",
    "y_norm, max_y = get_norm_y(y, 201)\n",
    "y_pred_norm, y_pred_max = get_norm_y(y_pred, 201)\n",
    "\n",
    "# Returns Input set fro training the Max Mach Numbers\n",
    "\n",
    "def get_x(x,c):\n",
    "    x_n = np.zeros(x.shape[0])\n",
    "    \n",
    "    for i in range(x.shape[0]):\n",
    "        x_n[i] = x[i]\n",
    "    \n",
    "    return x_n\n",
    "\n",
    "X_max = get_x(X,201)\n",
    "X_pred_max = get_x(X_pred, 201)\n",
    "\n",
    "X= np.hstack((X_n,X))\n",
    "X_pred = np.hstack((X_n_pred,X_pred))"
   ]
  },
  {
   "cell_type": "code",
   "execution_count": 19,
   "metadata": {},
   "outputs": [
    {
     "name": "stdout",
     "output_type": "stream",
     "text": [
      "[[0.05378558 3.0035    ]\n",
      " [0.05246379 3.0035    ]\n",
      " [0.05142334 3.0035    ]\n",
      " ...\n",
      " [0.05235226 1.54621   ]\n",
      " [0.05012485 1.54621   ]\n",
      " [0.0479101  1.54621   ]]\n"
     ]
    }
   ],
   "source": [
    "y_comb = np.zeros([y_norm.shape[0],2])\n",
    "for i in range(y_comb.shape[0]):\n",
    "    y_comb[i,0]=y_norm[i]\n",
    "    y_comb[i,1]=max_y[i]\n",
    "print(y_comb)"
   ]
  },
  {
   "cell_type": "code",
   "execution_count": 20,
   "metadata": {},
   "outputs": [
    {
     "data": {
      "text/plain": [
       "(603, 2)"
      ]
     },
     "execution_count": 20,
     "metadata": {},
     "output_type": "execute_result"
    }
   ],
   "source": [
    "y_comb.shape"
   ]
  },
  {
   "cell_type": "code",
   "execution_count": 21,
   "metadata": {},
   "outputs": [
    {
     "name": "stdout",
     "output_type": "stream",
     "text": [
      "[[0.00e+00 7.00e+00]\n",
      " [5.00e-03 7.00e+00]\n",
      " [1.00e-02 7.00e+00]\n",
      " ...\n",
      " [9.90e-01 5.00e+00]\n",
      " [9.95e-01 5.00e+00]\n",
      " [1.00e+00 5.00e+00]]\n"
     ]
    }
   ],
   "source": [
    "print(X)"
   ]
  },
  {
   "cell_type": "code",
   "execution_count": 128,
   "metadata": {
    "scrolled": true
   },
   "outputs": [],
   "source": [
    "MaxVal_archi = [20, 20, 20, 1]\n",
    "IndVal_archi = [20, 20, 20, 20, 20, 1]\n",
    "\n",
    "def get_LD(x):\n",
    "    x_new = x[0,1:]\n",
    "    return x_new[:,np.newaxis]\n",
    "\n",
    "\n",
    "def build_model(MaxVal_archi, IndVal_archi):\n",
    "\n",
    "    Input_layer = Input(shape=[2,], name='Input')\n",
    "\n",
    "    '''MaxVal_input = Lambda(get_LD, name='MaxVal_input', output_shape=(None, 1))(Input_layer)\n",
    "    '''\n",
    "    \"\"\"    MaxVal_layer = []\n",
    "    for i,node in enumerate(MaxVal_archi):\n",
    "        if i==0:\n",
    "            MaxVal_layer.append(Dense(node, name='MaxVal_layer%d' %(i+1), activation='relu')(MaxVal_input))\n",
    "        elif i==len(MaxVal_archi)-1:\n",
    "            MaxVal_layer.append(Dense(1, name='MaxVal_Final_layer', activation='relu')(MaxVal_layer[i-1])) \n",
    "        else:\n",
    "            MaxVal_layer.append(Dense(node, name='MaxVal_layer%d' %(i+1), activation='relu')(MaxVal_layer[i-1]))\n",
    "    \"\"\"\n",
    "    IndVal_layer = []\n",
    "    for i, node in enumerate(IndVal_archi):\n",
    "        if i==0:\n",
    "            IndVal_layer.append(Dense(node, name='IndVal_layer%d' %(i+1), activation='relu')(Input_layer))\n",
    "        elif i==len(IndVal_archi)-1:\n",
    "            IndVal_layer.append(Dense(1, name='IndVal_Final_layer', activation='relu')(IndVal_layer[i-1])) \n",
    "        else:\n",
    "            IndVal_layer.append(Dense(node, name='IndVal_layer%d' %(i+1), activation='relu')(IndVal_layer[i-1]))\n",
    "\n",
    "            \n",
    "#     Multiplication_layer = Multiply(name='Multiplication_layer')([IndVal_layer[len(IndVal_archi)-1], MaxVal_layer[len(MaxVal_archi)-1]])\n",
    "    \n",
    "#     PreFinal_layer1 = Dense(20, name='PreFinal_layer1', activation='relu')(Multiplication_layer)\n",
    "#     PreFinal_layer2 = Dense(20, name='PreFinal_layer2', activation='relu')(PreFinal_layer1)\n",
    "#     PreFinal_layer3 = Dense(20, name='PreFinal_layer3', activation='relu')(PreFinal_layer2)\n",
    "    \n",
    "#     Final_layer = Dense(1, name='Final_layer', activation='linear')(PreFinal_layer3)\n",
    "    \n",
    "    model = Model(inputs= [Input_layer], outputs= IndVal_layer[len(IndVal_archi)-1])\n",
    "    return model\n",
    "\n",
    "model = build_model(MaxVal_archi,IndVal_archi)"
   ]
  },
  {
   "cell_type": "code",
   "execution_count": 129,
   "metadata": {},
   "outputs": [
    {
     "data": {
      "image/png": "[encoded data removed]",
      "text/plain": [
       "<IPython.core.display.Image object>"
      ]
     },
     "execution_count": 129,
     "metadata": {},
     "output_type": "execute_result"
    }
   ],
   "source": [
    "keras.utils.plot_model(model, \"multi_input_and_output_model.png\", show_shapes=True)\n",
    "# print(model.summary())"
   ]
  },
  {
   "cell_type": "code",
   "execution_count": 130,
   "metadata": {},
   "outputs": [
    {
     "name": "stdout",
     "output_type": "stream",
     "text": [
      "Model: \"model_8\"\n",
      "_________________________________________________________________\n",
      "Layer (type)                 Output Shape              Param #   \n",
      "=================================================================\n",
      "Input (InputLayer)           [(None, 2)]               0         \n",
      "_________________________________________________________________\n",
      "IndVal_layer1 (Dense)        (None, 20)                60        \n",
      "_________________________________________________________________\n",
      "IndVal_layer2 (Dense)        (None, 20)                420       \n",
      "_________________________________________________________________\n",
      "IndVal_layer3 (Dense)        (None, 20)                420       \n",
      "_________________________________________________________________\n",
      "IndVal_layer4 (Dense)        (None, 20)                420       \n",
      "_________________________________________________________________\n",
      "IndVal_layer5 (Dense)        (None, 20)                420       \n",
      "_________________________________________________________________\n",
      "IndVal_Final_layer (Dense)   (None, 1)                 21        \n",
      "=================================================================\n",
      "Total params: 1,761\n",
      "Trainable params: 1,761\n",
      "Non-trainable params: 0\n",
      "_________________________________________________________________\n",
      "None\n"
     ]
    }
   ],
   "source": [
    "print(model.summary())"
   ]
  },
  {
   "cell_type": "code",
   "execution_count": 113,
   "metadata": {},
   "outputs": [],
   "source": [
    "model.compile(loss='mse', optimizer='RMSprop', metrics=['mse'])\n"
   ]
  },
  {
   "cell_type": "code",
   "execution_count": 131,
   "metadata": {},
   "outputs": [
    {
     "name": "stdout",
     "output_type": "stream",
     "text": [
      "[0.05378558 0.05246379 0.05142334 0.05078242 0.04949858 0.04441918\n",
      " 0.03775695 0.02608004 0.01875106 0.0268303  0.0460879  0.07159913\n",
      " 0.10153188 0.13601265 0.16721225 0.19557749 0.22025404 0.24268886\n",
      " 0.27487931 0.31143466 0.34778092 0.3841152  0.41247545 0.43953721\n",
      " 0.4643982  0.48923922 0.51239554 0.53578492 0.56060263 0.58401199\n",
      " 0.59942401 0.61506909 0.63103712 0.64918595 0.67205261 0.6927418\n",
      " 0.70991177 0.72428833 0.73543865 0.74520726 0.75383386 0.76259364\n",
      " 0.77143666 0.78179124 0.79281505 0.80347927 0.81408357 0.82256035\n",
      " 0.83070085 0.83620443 0.8415149  0.8451107  0.84912602 0.85795239\n",
      " 0.86691859 0.87660063 0.88495755 0.8888297  0.89214916 0.89418345\n",
      " 0.89812552 0.90505743 0.91283836 0.92160146 0.92768104 0.93146662\n",
      " 0.93581155 0.94050941 0.9467388  0.95365407 0.95745963 0.96035292\n",
      " 0.96295322 0.96551024 0.96607291 0.96647245 0.96237723 0.95883802\n",
      " 0.96177793 0.96535708 0.9724255  0.9783386  0.9803962  0.98206426\n",
      " 0.98285001 0.98336274 0.98344598 0.98396204 0.98498751 0.98632262\n",
      " 0.98791743 0.98906276 0.98993175 0.9914866  0.99335109 0.99338106\n",
      " 0.99286832 0.99398702 0.99540203 0.99766273 1.         0.99553521\n",
      " 0.99096388 0.98504412 0.97937073 0.97501249 0.97031463 0.96447478\n",
      " 0.95968703 0.95727318 0.95409023 0.94969868 0.94462128 0.9387448\n",
      " 0.93621109 0.93653737 0.93421675 0.93024804 0.92356251 0.91567172\n",
      " 0.90552023 0.89469286 0.88324288 0.87168637 0.86182121 0.85210255\n",
      " 0.84249709 0.83296487 0.82413518 0.81514233 0.80517063 0.795139\n",
      " 0.78487431 0.77505244 0.76621275 0.75763942 0.7494856  0.74138172\n",
      " 0.73333444 0.72404528 0.71370734 0.70021974 0.68478775 0.66977193\n",
      " 0.65493924 0.6412319  0.62787748 0.61497919 0.60219744 0.5888297\n",
      " 0.57544198 0.56120526 0.54702181 0.53303479 0.51893458 0.50406193\n",
      " 0.48923589 0.47441651 0.45998335 0.44636591 0.43378725 0.42285001\n",
      " 0.41215249 0.40169136 0.39045114 0.37854836 0.36710171 0.35597137\n",
      " 0.3449409  0.33396704 0.3221445  0.31013418 0.29776061 0.28542567\n",
      " 0.27339071 0.26148327 0.25000533 0.23864425 0.22798069 0.21730614\n",
      " 0.20635292 0.19512602 0.18276244 0.17056501 0.15868387 0.14629466\n",
      " 0.13306609 0.11902847 0.10409289 0.08926819 0.07468087 0.06051906\n",
      " 0.04777227 0.03850541 0.03398801 0.03449309 0.03838355 0.03982753\n",
      " 0.04103779 0.03947728 0.03769868 0.05065956 0.0456594  0.03861328\n",
      " 0.03153541 0.03535042 0.04249675 0.05034893 0.07690994 0.11623606\n",
      " 0.16319627 0.21172732 0.2547994  0.29252672 0.3161415  0.34441152\n",
      " 0.37733977 0.42701848 0.48299317 0.54246712 0.58994506 0.62772432\n",
      " 0.65776927 0.67752955 0.68593308 0.68905277 0.70518062 0.73189945\n",
      " 0.76303979 0.78202763 0.80079241 0.81821209 0.82866989 0.84808723\n",
      " 0.8725154  0.89886466 0.91970368 0.93781255 0.9550591  0.96069585\n",
      " 0.96268354 0.97141002 0.98356251 0.99713667 1.01048111 1.01876477\n",
      " 1.0228267  1.01915432 1.02512069 1.0362577  1.05264525 1.06629932\n",
      " 1.07686699 1.08107541 1.0849742  1.09033794 1.09996005 1.10724155\n",
      " 1.11450641 1.12343599 1.13328117 1.14358249 1.15437989 1.16054603\n",
      " 1.1649742  1.16796737 1.17127018 1.17500916 1.17949392 1.1876877\n",
      " 1.19626769 1.20419178 1.2131147  1.22160812 1.22898951 1.23057766\n",
      " 1.23231563 1.23580489 1.24306309 1.24991177 1.25527218 1.25202597\n",
      " 1.25008157 1.25154986 1.25967371 1.26538039 1.26680206 1.28220077\n",
      " 1.29463626 1.30170801 1.29870817 1.30000333 1.30738805 1.3052006\n",
      " 1.3074846  1.31547195 1.32207425 1.32563343 1.3259131  1.32076577\n",
      " 1.31293491 1.30241385 1.30653238 1.31109372 1.31585484 1.30609289\n",
      " 1.29994673 1.29739304 1.30430165 1.30833694 1.30967871 1.30610288\n",
      " 1.29760946 1.28607957 1.28953554 1.29611786 1.304285   1.30253371\n",
      " 1.29964375 1.29576161 1.2901182  1.27882803 1.2647711  1.25960713\n",
      " 1.26240386 1.26890628 1.26550025 1.25764941 1.24678875 1.23362078\n",
      " 1.22308307 1.21467954 1.21012485 1.2006326  1.18779091 1.17096055\n",
      " 1.15772932 1.14677876 1.13818878 1.13005161 1.120283   1.10286666\n",
      " 1.08403862 1.06642917 1.05569502 1.04181122 1.02565007 1.00592975\n",
      " 0.98658232 0.96793075 0.95107042 0.93233894 0.91271517 0.89234227\n",
      " 0.87214916 0.85145996 0.82916264 0.81095389 0.79310804 0.77321458\n",
      " 0.75281505 0.73257533 0.71301482 0.69143999 0.67010155 0.65030464\n",
      " 0.62804728 0.60477776 0.58051606 0.55790578 0.53645081 0.516574\n",
      " 0.49693691 0.4775462  0.45841518 0.438282   0.41756284 0.3960313\n",
      " 0.37626103 0.35785251 0.34107541 0.32328117 0.30465657 0.28507741\n",
      " 0.26810621 0.25193441 0.23644415 0.21970135 0.20178159 0.18240986\n",
      " 0.16170434 0.14108207 0.1206609  0.09958482 0.07911703 0.05998169\n",
      " 0.04464225 0.03537073 0.03460296 0.0335978  0.03252622 0.02978455\n",
      " 0.05200866 0.05468121 0.0573674  0.05986149 0.06195405 0.06415549\n",
      " 0.06438788 0.06325554 0.06215715 0.05899018 0.05562377 0.05200566\n",
      " 0.04713934 0.04246279 0.03704778 0.03212822 0.02996344 0.03212389\n",
      " 0.03796304 0.04596338 0.05495688 0.06465524 0.0760263  0.08968071\n",
      " 0.10347361 0.11770301 0.13217313 0.14669819 0.16141002 0.1761435\n",
      " 0.19113601 0.20681005 0.22250241 0.2367408  0.24987148 0.26301115\n",
      " 0.27336641 0.28332346 0.29319627 0.30249109 0.31183719 0.32048577\n",
      " 0.32829    0.33612119 0.34308973 0.3498252  0.35681039 0.36745464\n",
      " 0.37813218 0.38896954 0.40010321 0.41130681 0.42070251 0.42911603\n",
      " 0.4375462  0.44253371 0.44735475 0.45172965 0.45466622 0.45763276\n",
      " 0.46060596 0.46356917 0.46654903 0.47004162 0.47365074 0.47722657\n",
      " 0.48044615 0.48369569 0.48631264 0.48807724 0.48985517 0.49164641\n",
      " 0.49346096 0.49528883 0.49668387 0.49809223 0.5        0.50294989\n",
      " 0.50591643 0.50849342 0.51083736 0.51319461 0.51386715 0.51441318\n",
      " 0.51480273 0.51455302 0.51430331 0.51350425 0.51218578 0.51086732\n",
      " 0.50825703 0.50535375 0.50255369 0.50052938 0.49850508 0.49583486\n",
      " 0.49222907 0.48863326 0.48480107 0.4808823  0.47698685 0.4770268\n",
      " 0.47707008 0.47670717 0.4753754  0.47405693 0.47069752 0.46595971\n",
      " 0.46124521 0.45653737 0.45184285 0.44788746 0.44704511 0.44620942\n",
      " 0.4449975  0.44338605 0.44177793 0.43772599 0.4330248  0.42844681\n",
      " 0.42493091 0.42142167 0.41760946 0.41329449 0.40898618 0.40363576\n",
      " 0.39779923 0.39198269 0.38809056 0.38427168 0.38032962 0.37602464\n",
      " 0.37173964 0.36600633 0.35918096 0.35237889 0.34570002 0.33907108\n",
      " 0.33251174 0.32615815 0.31984185 0.31430265 0.30966606 0.30506376\n",
      " 0.30093957 0.29699617 0.29303712 0.28813051 0.28325986 0.27829665\n",
      " 0.27313334 0.26801165 0.26241751 0.25658365 0.25079141 0.24527518\n",
      " 0.23980456 0.23443749 0.2293128  0.22420676 0.21871783 0.21292093\n",
      " 0.20716497 0.20169802 0.19634793 0.19118861 0.18680373 0.18244215\n",
      " 0.17763576 0.17222307 0.16681638 0.1602011  0.15314533 0.14609089\n",
      " 0.13868087 0.1312825  0.12396537 0.1167964  0.10962977 0.10216148\n",
      " 0.09452572 0.08691593 0.07898252 0.07120826 0.06365274 0.05634926\n",
      " 0.04970301 0.04391943 0.03968503 0.03773298 0.03815382 0.04084035\n",
      " 0.04521358 0.04886666 0.05298119 0.05533245 0.05469119 0.05409356\n",
      " 0.05235226 0.05012485 0.0479101 ]\n"
     ]
    }
   ],
   "source": [
    "print(y_norm)"
   ]
  },
  {
   "cell_type": "code",
   "execution_count": 114,
   "metadata": {},
   "outputs": [],
   "source": [
    "early_stopping_callback = EarlyStopping(monitor='loss', \n",
    "                                        patience=20,\n",
    "                                        min_delta= 1e-3,\n",
    "                                        restore_best_weights=True,\n",
    "                                        mode='auto')"
   ]
  },
  {
   "cell_type": "code",
   "execution_count": 115,
   "metadata": {},
   "outputs": [],
   "source": [
    "##### Using sklearn to split the data into train and test sets with shuffling ####\n",
    "X_train, X_test, y_train_comb, y_test_comb = train_test_split(X, y_norm, test_size=0.2, random_state=42, shuffle=True)\n",
    "\n",
    "\n",
    "# y_norm_train = y_train_comb[:,0]\n",
    "# y_max_train = y_train_comb[:,1]\n",
    "# y_norm_test = y_test_comb[:,0]\n",
    "# y_max_test = y_test_comb[:,1]"
   ]
  },
  {
   "cell_type": "code",
   "execution_count": 118,
   "metadata": {
    "scrolled": true
   },
   "outputs": [
    {
     "name": "stdout",
     "output_type": "stream",
     "text": [
      "Train on 482 samples, validate on 121 samples\n",
      "Epoch 1/10\n",
      "482/482 [==============================] - 0s 777us/sample - loss: 0.5187 - mse: 0.5187 - val_loss: 0.4935 - val_mse: 0.4935\n",
      "Epoch 2/10\n",
      "482/482 [==============================] - 0s 754us/sample - loss: 0.5187 - mse: 0.5187 - val_loss: 0.4935 - val_mse: 0.4935\n",
      "Epoch 3/10\n",
      "482/482 [==============================] - 0s 990us/sample - loss: 0.5187 - mse: 0.5187 - val_loss: 0.4935 - val_mse: 0.4935\n",
      "Epoch 4/10\n",
      "482/482 [==============================] - 0s 831us/sample - loss: 0.5187 - mse: 0.5187 - val_loss: 0.4935 - val_mse: 0.4935\n",
      "Epoch 5/10\n",
      "482/482 [==============================] - 0s 787us/sample - loss: 0.5187 - mse: 0.5187 - val_loss: 0.4935 - val_mse: 0.4935\n",
      "Epoch 6/10\n",
      "482/482 [==============================] - 0s 781us/sample - loss: 0.5187 - mse: 0.5187 - val_loss: 0.4935 - val_mse: 0.4935\n",
      "Epoch 7/10\n",
      "482/482 [==============================] - 0s 793us/sample - loss: 0.5187 - mse: 0.5187 - val_loss: 0.4935 - val_mse: 0.4935\n",
      "Epoch 8/10\n",
      "482/482 [==============================] - 0s 800us/sample - loss: 0.5187 - mse: 0.5187 - val_loss: 0.4935 - val_mse: 0.4935\n",
      "Epoch 9/10\n",
      "482/482 [==============================] - 0s 795us/sample - loss: 0.5187 - mse: 0.5187 - val_loss: 0.4935 - val_mse: 0.4935\n",
      "Epoch 10/10\n",
      "482/482 [==============================] - 0s 878us/sample - loss: 0.5187 - mse: 0.5187 - val_loss: 0.4935 - val_mse: 0.4935\n",
      "WARNING:tensorflow:From /home/hega/.local/lib/python3.7/site-packages/tensorflow_core/python/ops/resource_variable_ops.py:1786: calling BaseResourceVariable.__init__ (from tensorflow.python.ops.resource_variable_ops) with constraint is deprecated and will be removed in a future version.\n",
      "Instructions for updating:\n",
      "If using Keras pass *_constraint arguments to layers.\n",
      "INFO:tensorflow:Assets written to: temp_models/SiameseModel/assets\n"
     ]
    }
   ],
   "source": [
    "history = model.fit(X_train,\n",
    "                    y_train_comb,\n",
    "                    batch_size = 2,\n",
    "                    epochs=10,\n",
    "                    verbose=True,\n",
    "                    validation_data=(X_test,y_test_comb))\n",
    "\n",
    "model.save('temp_models/SiameseModel')"
   ]
  },
  {
   "cell_type": "code",
   "execution_count": 119,
   "metadata": {},
   "outputs": [],
   "source": [
    "pred = model.predict(X_pred)"
   ]
  },
  {
   "cell_type": "code",
   "execution_count": 121,
   "metadata": {},
   "outputs": [
    {
     "name": "stdout",
     "output_type": "stream",
     "text": [
      "[[0.]\n",
      " [0.]\n",
      " [0.]\n",
      " ...\n",
      " [0.]\n",
      " [0.]\n",
      " [0.]]\n"
     ]
    }
   ],
   "source": [
    "print(pred)"
   ]
  },
  {
   "cell_type": "code",
   "execution_count": 81,
   "metadata": {},
   "outputs": [
    {
     "name": "stdout",
     "output_type": "stream",
     "text": [
      "6.0\n",
      "6.5\n",
      "7.5\n",
      "8.0\n",
      "8.5\n",
      "10.0\n",
      "5.0\n",
      "4.0\n",
      "4.5\n",
      "3.0\n",
      "9.0\n"
     ]
    }
   ],
   "source": [
    "for i in range(int(pred[1].shape[0]/201)):\n",
    "    print(X_pred_max[i*201])"
   ]
  },
  {
   "cell_type": "code",
   "execution_count": 82,
   "metadata": {},
   "outputs": [
    {
     "name": "stdout",
     "output_type": "stream",
     "text": [
      "[0.330245]\n",
      "[0.4252388]\n",
      "[0.01237187]\n",
      "[0.03497924]\n",
      "[0.06440692]\n",
      "[0.01877775]\n",
      "[0.00017779]\n",
      "[1.]\n",
      "[0.95877826]\n",
      "[0.64949286]\n",
      "[1.3829593e-05]\n"
     ]
    }
   ],
   "source": [
    "for i in range(int(pred[1].shape[0]/201)):\n",
    "    \n",
    "    print(abs(pred[1][i*201]-y_pred_max[i*201])/y_pred_max[i*201])"
   ]
  },
  {
   "cell_type": "code",
   "execution_count": 48,
   "metadata": {},
   "outputs": [
    {
     "name": "stdout",
     "output_type": "stream",
     "text": [
      "11.0\n"
     ]
    }
   ],
   "source": [
    "print(pred[1].shape[0]/201)"
   ]
  },
  {
   "cell_type": "code",
   "execution_count": 38,
   "metadata": {},
   "outputs": [
    {
     "ename": "ValueError",
     "evalue": "x and y must have same first dimension, but have shapes (201, 1) and (2, 2211, 1)",
     "output_type": "error",
     "traceback": [
      "\u001b[0;31m---------------------------------------------------------------------------\u001b[0m",
      "\u001b[0;31mValueError\u001b[0m                                Traceback (most recent call last)",
      "\u001b[0;32m<ipython-input-38-1ac51a9c7f4f>\u001b[0m in \u001b[0;36m<module>\u001b[0;34m\u001b[0m\n\u001b[1;32m      7\u001b[0m                   \u001b[0mpred\u001b[0m\u001b[0;34m[\u001b[0m\u001b[0mj\u001b[0m\u001b[0;34m*\u001b[0m\u001b[0;36m201\u001b[0m\u001b[0;34m:\u001b[0m\u001b[0;34m(\u001b[0m\u001b[0mj\u001b[0m\u001b[0;34m+\u001b[0m\u001b[0;36m1\u001b[0m\u001b[0;34m)\u001b[0m\u001b[0;34m*\u001b[0m\u001b[0;36m201\u001b[0m\u001b[0;34m]\u001b[0m\u001b[0;34m,\u001b[0m\u001b[0;34m\u001b[0m\u001b[0;34m\u001b[0m\u001b[0m\n\u001b[1;32m      8\u001b[0m                   \u001b[0;34m'r'\u001b[0m\u001b[0;34m,\u001b[0m\u001b[0;34m\u001b[0m\u001b[0;34m\u001b[0m\u001b[0m\n\u001b[0;32m----> 9\u001b[0;31m                   label='Prediction')\n\u001b[0m\u001b[1;32m     10\u001b[0m     \u001b[0maxes\u001b[0m\u001b[0;34m[\u001b[0m\u001b[0mj\u001b[0m\u001b[0;34m]\u001b[0m\u001b[0;34m.\u001b[0m\u001b[0mplot\u001b[0m\u001b[0;34m(\u001b[0m\u001b[0mX_n_pred\u001b[0m\u001b[0;34m[\u001b[0m\u001b[0mj\u001b[0m\u001b[0;34m*\u001b[0m\u001b[0;36m201\u001b[0m\u001b[0;34m:\u001b[0m\u001b[0;34m(\u001b[0m\u001b[0mj\u001b[0m\u001b[0;34m+\u001b[0m\u001b[0;36m1\u001b[0m\u001b[0;34m)\u001b[0m\u001b[0;34m*\u001b[0m\u001b[0;36m201\u001b[0m\u001b[0;34m]\u001b[0m\u001b[0;34m,\u001b[0m \u001b[0my_pred\u001b[0m\u001b[0;34m[\u001b[0m\u001b[0mj\u001b[0m\u001b[0;34m*\u001b[0m\u001b[0;36m201\u001b[0m\u001b[0;34m:\u001b[0m\u001b[0;34m(\u001b[0m\u001b[0mj\u001b[0m\u001b[0;34m+\u001b[0m\u001b[0;36m1\u001b[0m\u001b[0;34m)\u001b[0m\u001b[0;34m*\u001b[0m\u001b[0;36m201\u001b[0m\u001b[0;34m]\u001b[0m\u001b[0;34m,\u001b[0m \u001b[0;34m'g'\u001b[0m\u001b[0;34m,\u001b[0m \u001b[0mlabel\u001b[0m\u001b[0;34m=\u001b[0m\u001b[0;34m'Actual'\u001b[0m\u001b[0;34m)\u001b[0m\u001b[0;34m\u001b[0m\u001b[0;34m\u001b[0m\u001b[0m\n\u001b[1;32m     11\u001b[0m     \u001b[0maxes\u001b[0m\u001b[0;34m[\u001b[0m\u001b[0mj\u001b[0m\u001b[0;34m]\u001b[0m\u001b[0;34m.\u001b[0m\u001b[0mset\u001b[0m\u001b[0;34m(\u001b[0m\u001b[0mxlabel\u001b[0m\u001b[0;34m=\u001b[0m\u001b[0;34m\"Normalised x-coordinate\"\u001b[0m\u001b[0;34m,\u001b[0m \u001b[0mylabel\u001b[0m\u001b[0;34m=\u001b[0m\u001b[0;34m\"Mach Number\"\u001b[0m\u001b[0;34m)\u001b[0m\u001b[0;34m\u001b[0m\u001b[0;34m\u001b[0m\u001b[0m\n",
      "\u001b[0;32m~/.local/lib/python3.7/site-packages/matplotlib/axes/_axes.py\u001b[0m in \u001b[0;36mplot\u001b[0;34m(self, scalex, scaley, data, *args, **kwargs)\u001b[0m\n\u001b[1;32m   1644\u001b[0m         \"\"\"\n\u001b[1;32m   1645\u001b[0m         \u001b[0mkwargs\u001b[0m \u001b[0;34m=\u001b[0m \u001b[0mcbook\u001b[0m\u001b[0;34m.\u001b[0m\u001b[0mnormalize_kwargs\u001b[0m\u001b[0;34m(\u001b[0m\u001b[0mkwargs\u001b[0m\u001b[0;34m,\u001b[0m \u001b[0mmlines\u001b[0m\u001b[0;34m.\u001b[0m\u001b[0mLine2D\u001b[0m\u001b[0;34m)\u001b[0m\u001b[0;34m\u001b[0m\u001b[0;34m\u001b[0m\u001b[0m\n\u001b[0;32m-> 1646\u001b[0;31m         \u001b[0mlines\u001b[0m \u001b[0;34m=\u001b[0m \u001b[0;34m[\u001b[0m\u001b[0;34m*\u001b[0m\u001b[0mself\u001b[0m\u001b[0;34m.\u001b[0m\u001b[0m_get_lines\u001b[0m\u001b[0;34m(\u001b[0m\u001b[0;34m*\u001b[0m\u001b[0margs\u001b[0m\u001b[0;34m,\u001b[0m \u001b[0mdata\u001b[0m\u001b[0;34m=\u001b[0m\u001b[0mdata\u001b[0m\u001b[0;34m,\u001b[0m \u001b[0;34m**\u001b[0m\u001b[0mkwargs\u001b[0m\u001b[0;34m)\u001b[0m\u001b[0;34m]\u001b[0m\u001b[0;34m\u001b[0m\u001b[0;34m\u001b[0m\u001b[0m\n\u001b[0m\u001b[1;32m   1647\u001b[0m         \u001b[0;32mfor\u001b[0m \u001b[0mline\u001b[0m \u001b[0;32min\u001b[0m \u001b[0mlines\u001b[0m\u001b[0;34m:\u001b[0m\u001b[0;34m\u001b[0m\u001b[0;34m\u001b[0m\u001b[0m\n\u001b[1;32m   1648\u001b[0m             \u001b[0mself\u001b[0m\u001b[0;34m.\u001b[0m\u001b[0madd_line\u001b[0m\u001b[0;34m(\u001b[0m\u001b[0mline\u001b[0m\u001b[0;34m)\u001b[0m\u001b[0;34m\u001b[0m\u001b[0;34m\u001b[0m\u001b[0m\n",
      "\u001b[0;32m~/.local/lib/python3.7/site-packages/matplotlib/axes/_base.py\u001b[0m in \u001b[0;36m__call__\u001b[0;34m(self, *args, **kwargs)\u001b[0m\n\u001b[1;32m    214\u001b[0m                 \u001b[0mthis\u001b[0m \u001b[0;34m+=\u001b[0m \u001b[0margs\u001b[0m\u001b[0;34m[\u001b[0m\u001b[0;36m0\u001b[0m\u001b[0;34m]\u001b[0m\u001b[0;34m,\u001b[0m\u001b[0;34m\u001b[0m\u001b[0;34m\u001b[0m\u001b[0m\n\u001b[1;32m    215\u001b[0m                 \u001b[0margs\u001b[0m \u001b[0;34m=\u001b[0m \u001b[0margs\u001b[0m\u001b[0;34m[\u001b[0m\u001b[0;36m1\u001b[0m\u001b[0;34m:\u001b[0m\u001b[0;34m]\u001b[0m\u001b[0;34m\u001b[0m\u001b[0;34m\u001b[0m\u001b[0m\n\u001b[0;32m--> 216\u001b[0;31m             \u001b[0;32myield\u001b[0m \u001b[0;32mfrom\u001b[0m \u001b[0mself\u001b[0m\u001b[0;34m.\u001b[0m\u001b[0m_plot_args\u001b[0m\u001b[0;34m(\u001b[0m\u001b[0mthis\u001b[0m\u001b[0;34m,\u001b[0m \u001b[0mkwargs\u001b[0m\u001b[0;34m)\u001b[0m\u001b[0;34m\u001b[0m\u001b[0;34m\u001b[0m\u001b[0m\n\u001b[0m\u001b[1;32m    217\u001b[0m \u001b[0;34m\u001b[0m\u001b[0m\n\u001b[1;32m    218\u001b[0m     \u001b[0;32mdef\u001b[0m \u001b[0mget_next_color\u001b[0m\u001b[0;34m(\u001b[0m\u001b[0mself\u001b[0m\u001b[0;34m)\u001b[0m\u001b[0;34m:\u001b[0m\u001b[0;34m\u001b[0m\u001b[0;34m\u001b[0m\u001b[0m\n",
      "\u001b[0;32m~/.local/lib/python3.7/site-packages/matplotlib/axes/_base.py\u001b[0m in \u001b[0;36m_plot_args\u001b[0;34m(self, tup, kwargs)\u001b[0m\n\u001b[1;32m    340\u001b[0m \u001b[0;34m\u001b[0m\u001b[0m\n\u001b[1;32m    341\u001b[0m         \u001b[0;32mif\u001b[0m \u001b[0mx\u001b[0m\u001b[0;34m.\u001b[0m\u001b[0mshape\u001b[0m\u001b[0;34m[\u001b[0m\u001b[0;36m0\u001b[0m\u001b[0;34m]\u001b[0m \u001b[0;34m!=\u001b[0m \u001b[0my\u001b[0m\u001b[0;34m.\u001b[0m\u001b[0mshape\u001b[0m\u001b[0;34m[\u001b[0m\u001b[0;36m0\u001b[0m\u001b[0;34m]\u001b[0m\u001b[0;34m:\u001b[0m\u001b[0;34m\u001b[0m\u001b[0;34m\u001b[0m\u001b[0m\n\u001b[0;32m--> 342\u001b[0;31m             raise ValueError(f\"x and y must have same first dimension, but \"\n\u001b[0m\u001b[1;32m    343\u001b[0m                              f\"have shapes {x.shape} and {y.shape}\")\n\u001b[1;32m    344\u001b[0m         \u001b[0;32mif\u001b[0m \u001b[0mx\u001b[0m\u001b[0;34m.\u001b[0m\u001b[0mndim\u001b[0m \u001b[0;34m>\u001b[0m \u001b[0;36m2\u001b[0m \u001b[0;32mor\u001b[0m \u001b[0my\u001b[0m\u001b[0;34m.\u001b[0m\u001b[0mndim\u001b[0m \u001b[0;34m>\u001b[0m \u001b[0;36m2\u001b[0m\u001b[0;34m:\u001b[0m\u001b[0;34m\u001b[0m\u001b[0;34m\u001b[0m\u001b[0m\n",
      "\u001b[0;31mValueError\u001b[0m: x and y must have same first dimension, but have shapes (201, 1) and (2, 2211, 1)"
     ]
    },
    {
     "data": {
      "text/plain": [
       "<Figure size 432x288 with 0 Axes>"
      ]
     },
     "metadata": {},
     "output_type": "display_data"
    },
    {
     "data": {
      "image/png": "[encoded data removed]",
      "text/plain": [
       "<Figure size 432x2808 with 11 Axes>"
      ]
     },
     "metadata": {
      "needs_background": "light"
     },
     "output_type": "display_data"
    }
   ],
   "source": [
    "nrows=int(X_pred.shape[0]/201)\n",
    "fig3 = plt.figure()\n",
    "fig, axes = plt.subplots(nrows)\n",
    "fig.set_size_inches(6,39)\n",
    "for j in range(nrows):\n",
    "    axes[j].plot(X_n_pred[:201],\n",
    "                  pred[j*201:(j+1)*201],\n",
    "                  'r',\n",
    "                  label='Prediction')\n",
    "    axes[j].plot(X_n_pred[j*201:(j+1)*201], y_pred[j*201:(j+1)*201], 'g', label='Actual')\n",
    "    axes[j].set(xlabel=\"Normalised x-coordinate\", ylabel=\"Mach Number\")\n",
    "    axes[j].set_title('L/D Ratio = %.1f' %(X_pred_max[j]), fontsize=11)\n",
    "    axes[j].legend(loc=\"upper right\")\n",
    "    axes[j].set_xlim((0,1))\n",
    "    axes[j].set_ylim((0,5))\n",
    "    axes[j].set_aspect(0.2)\n",
    "\n",
    "fig = plt.gcf()\n",
    "plt.tight_layout(pad=0.25, h_pad=1.25, w_pad=0.25, rect=None)\n",
    "# plt.savefig(save_post_dir + 'cumilative_ind_%s_predictions.png' %(opti_name), dpi=500)\n",
    "plt.show(fig3)\n",
    "plt.close(fig3)"
   ]
  },
  {
   "cell_type": "code",
   "execution_count": null,
   "metadata": {},
   "outputs": [],
   "source": [
    "print(np.zeros([1,2]))"
   ]
  },
  {
   "cell_type": "code",
   "execution_count": null,
   "metadata": {},
   "outputs": [],
   "source": [
    "print(X_pred.shape)"
   ]
  },
  {
   "cell_type": "code",
   "execution_count": null,
   "metadata": {},
   "outputs": [],
   "source": []
  }
 ],
 "metadata": {
  "kernelspec": {
   "display_name": "Python 3",
   "language": "python",
   "name": "python3"
  },
  "language_info": {
   "codemirror_mode": {
    "name": "ipython",
    "version": 3
   },
   "file_extension": ".py",
   "mimetype": "text/x-python",
   "name": "python",
   "nbconvert_exporter": "python",
   "pygments_lexer": "ipython3",
   "version": "3.7.7"
  }
 },
 "nbformat": 4,
 "nbformat_minor": 4
}
